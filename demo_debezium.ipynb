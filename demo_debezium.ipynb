{
 "cells": [
  {
   "cell_type": "markdown",
   "id": "6ff64e5e",
   "metadata": {},
   "source": [
    "## Demo Debezuim\n",
    "\n",
    "### Шаг 1\n",
    "\n",
    "На БД `postgres` выполняем\n",
    "```sql\n",
    "select * from pg_stat_replication;\n",
    "```\n",
    "\n",
    "Видим, что ответ пустой; Значит, сейчас репликации нет;\n",
    "\n",
    "Далее выполняем\n",
    "```sql\n",
    "create table public.customers (\n",
    "    id int,\n",
    "    name text\n",
    ");\n",
    "\n",
    "alter table public.customers replica identity full;\n",
    "\n",
    "insert into public.customers (id, name)\n",
    "values\n",
    "    (1, 'ilya'), (2, 'kate'), (3, 'ivan')\n",
    ";\n",
    "```\n",
    "\n",
    "Это будут наши стартовые значения\n",
    "\n",
    "### Шаг 2\n",
    "\n",
    "Настройка debezium"
   ]
  },
  {
   "cell_type": "code",
   "execution_count": 1,
   "id": "e27a9dbc",
   "metadata": {},
   "outputs": [
    {
     "name": "stdout",
     "output_type": "stream",
     "text": [
      "rm: connector.json: No such file or directory\n"
     ]
    }
   ],
   "source": [
    "!rm connector.json"
   ]
  },
  {
   "cell_type": "code",
   "execution_count": 3,
   "id": "047b74f3",
   "metadata": {},
   "outputs": [],
   "source": [
    "import json\n",
    "\n",
    "config = {\n",
    "  \"name\": \"pg-connector\",\n",
    "  \"config\": {\n",
    "    \"connector.class\": \"io.debezium.connector.postgresql.PostgresConnector\",\n",
    "    \"plugin.name\": \"pgoutput\",\n",
    "    \n",
    "    \"database.hostname\": \"postgres\",\n",
    "    \"database.port\": \"5432\",\n",
    "    \"database.user\": \"postgres\",\n",
    "    \"database.password\": \"postgres\",\n",
    "    \"database.dbname\" : \"postgres\",\n",
    "    \"database.server.name\": \"pg-dev\",\n",
    "    \n",
    "    \"table.include.list\": \"public.(.*)\",\n",
    "    \"heartbeat.interval.ms\": \"5000\",\n",
    "    \"slot.name\": \"dbname_debezium\",\n",
    "    \"publication.name\": \"dbname_publication\",\n",
    "    \n",
    "    \"transforms\": \"AddPrefix\",\n",
    "    \"transforms.AddPrefix.type\": \"org.apache.kafka.connect.transforms.RegexRouter\",\n",
    "    \"transforms.AddPrefix.regex\": \"pg-dev.public.(.*)\",\n",
    "    \"transforms.AddPrefix.replacement\": \"data.cdc.dbname\",\n",
    "      \n",
    "    \"topic.creation.default.cleanup.policy\": \"delete\",\n",
    "    \"topic.creation.default.partitions\": \"1\",\n",
    "    \"topic.creation.default.replication.factor\": \"1\",\n",
    "    \"topic.creation.default.retention.ms\": \"604800000\",\n",
    "    \"topic.creation.enable\": \"true\",\n",
    "    \"topic.prefix\": \"postgres\"\n",
    "  }\n",
    "}\n",
    "\n",
    "with open('connector.json', 'w') as f:\n",
    "    json.dump(config, f)"
   ]
  },
  {
   "cell_type": "code",
   "execution_count": null,
   "id": "075849eb",
   "metadata": {},
   "outputs": [],
   "source": []
  },
  {
   "cell_type": "code",
   "execution_count": 1,
   "id": "3821bd5e",
   "metadata": {},
   "outputs": [],
   "source": [
    "import json\n",
    "topic = 'postgres.public.aircraft'\n",
    "record_keys = 'aircraft_code'\n",
    "config = {\n",
    "            \"name\": topic.replace('.', '-'),\n",
    "            \"config\": {\n",
    "                \"connector.class\": \"io.debezium.connector.jdbc.JdbcSinkConnector\",\n",
    "                \"topics\": topic,\n",
    "                \"connection.url\": \"jdbc:postgresql://postgres_dwh:5432/postgres\",\n",
    "                \"connection.username\": \"postgres\",\n",
    "                \"connection.password\": \"postgres\",\n",
    "                \"tasks.max\":\"1\",\n",
    "                \"insert.mode\": \"upsert\",\n",
    "                \"delete.enabled\": \"false\",\n",
    "                \"primary.key.mode\": \"record_key\",\n",
    "                \"primary.key.fields\": record_keys,\n",
    "                \"schema.evolution\": \"basic\"\n",
    "                }\n",
    "            }\n",
    "\n",
    "with open('connector2.json', 'w') as f:\n",
    "    json.dump(config, f)"
   ]
  },
  {
   "cell_type": "code",
   "execution_count": 2,
   "id": "7ac6b0f5",
   "metadata": {},
   "outputs": [
    {
     "name": "stdout",
     "output_type": "stream",
     "text": [
      "{\"name\":\"postgres-public-aircraft\",\"config\":{\"connector.class\":\"io.debezium.connector.jdbc.JdbcSinkConnector\",\"topics\":\"postgres.public.aircraft\",\"connection.url\":\"jdbc:postgresql://postgres_dwh:5432/postgres\",\"connection.username\":\"postgres\",\"connection.password\":\"postgres\",\"tasks.max\":\"1\",\"insert.mode\":\"upsert\",\"delete.enabled\":\"false\",\"primary.key.mode\":\"record_key\",\"primary.key.fields\":\"aircraft_code\",\"schema.evolution\":\"basic\",\"name\":\"postgres-public-aircraft\"},\"tasks\":[],\"type\":\"sink\"}\n"
     ]
    },
    {
     "name": "stderr",
     "output_type": "stream",
     "text": [
      "  % Total    % Received % Xferd  Average Speed   Time    Time     Time  Current\n",
      "                                 Dload  Upload   Total   Spent    Left  Speed\n",
      "\n",
      "  0     0    0     0    0     0      0      0 --:--:-- --:--:-- --:--:--     0\n",
      "100   957  100   496  100   461  15466  14374 --:--:-- --:--:-- --:--:-- 29906\n"
     ]
    }
   ],
   "source": [
    "!curl -X POST --location \"http://localhost:8083/connectors\" -H \"Content-Type: application/json\" -H \"Accept: application/json\" -d @connector2.json"
   ]
  },
  {
   "cell_type": "markdown",
   "id": "58c5793c",
   "metadata": {},
   "source": [
    "Подключение создалось;<br>\n",
    "Чтобы дополнительно в этом убедиться, можем посмотреть в UI: http://localhost:8080"
   ]
  },
  {
   "cell_type": "markdown",
   "id": "1e2aa894",
   "metadata": {},
   "source": [
    "### Шаг 3\n",
    "\n",
    "Смотрим, что топик в kafka создался"
   ]
  },
  {
   "cell_type": "code",
   "execution_count": 7,
   "id": "98b6192e",
   "metadata": {},
   "outputs": [
    {
     "name": "stdout",
     "output_type": "stream",
     "text": [
      "rm: clusters.json: No such file or directory\n"
     ]
    }
   ],
   "source": [
    "!rm clusters.json"
   ]
  },
  {
   "cell_type": "code",
   "execution_count": 5,
   "id": "da29fe3d",
   "metadata": {},
   "outputs": [
    {
     "name": "stderr",
     "output_type": "stream",
     "text": [
      "  % Total    % Received % Xferd  Average Speed   Time    Time     Time  Current\n",
      "                                 Dload  Upload   Total   Spent    Left  Speed\n",
      "\n",
      "  0     0    0     0    0     0      0      0 --:--:-- --:--:-- --:--:--     0\n",
      "100  1001    0  1001    0     0   5764      0 --:--:-- --:--:-- --:--:--  5786\n"
     ]
    }
   ],
   "source": [
    "# Нас интересует cluster_id\n",
    "\n",
    "!curl http://localhost:8082/v3/clusters -o clusters.json"
   ]
  },
  {
   "cell_type": "code",
   "execution_count": 6,
   "id": "1ba3f0f0",
   "metadata": {},
   "outputs": [
    {
     "data": {
      "text/plain": [
       "{'kind': 'KafkaClusterList',\n",
       " 'metadata': {'self': 'http://rest-proxy:8082/v3/clusters', 'next': None},\n",
       " 'data': [{'kind': 'KafkaCluster',\n",
       "   'metadata': {'self': 'http://rest-proxy:8082/v3/clusters/dYcsmY32SRecmP5353bVlg',\n",
       "    'resource_name': 'crn:///kafka=dYcsmY32SRecmP5353bVlg'},\n",
       "   'cluster_id': 'dYcsmY32SRecmP5353bVlg',\n",
       "   'controller': {'related': 'http://rest-proxy:8082/v3/clusters/dYcsmY32SRecmP5353bVlg/brokers/1'},\n",
       "   'acls': {'related': 'http://rest-proxy:8082/v3/clusters/dYcsmY32SRecmP5353bVlg/acls'},\n",
       "   'brokers': {'related': 'http://rest-proxy:8082/v3/clusters/dYcsmY32SRecmP5353bVlg/brokers'},\n",
       "   'broker_configs': {'related': 'http://rest-proxy:8082/v3/clusters/dYcsmY32SRecmP5353bVlg/broker-configs'},\n",
       "   'consumer_groups': {'related': 'http://rest-proxy:8082/v3/clusters/dYcsmY32SRecmP5353bVlg/consumer-groups'},\n",
       "   'topics': {'related': 'http://rest-proxy:8082/v3/clusters/dYcsmY32SRecmP5353bVlg/topics'},\n",
       "   'partition_reassignments': {'related': 'http://rest-proxy:8082/v3/clusters/dYcsmY32SRecmP5353bVlg/topics/-/partitions/-/reassignment'}}]}"
      ]
     },
     "execution_count": 6,
     "metadata": {},
     "output_type": "execute_result"
    }
   ],
   "source": [
    "with open('clusters.json', 'r') as f:\n",
    "    clusters = json.load(f)\n",
    "clusters"
   ]
  },
  {
   "cell_type": "markdown",
   "id": "13bff843",
   "metadata": {},
   "source": [
    "Запоминаем cluster_id = `TCJFECM_Stio2wfa268A5g`"
   ]
  },
  {
   "cell_type": "code",
   "execution_count": 13,
   "id": "a9872237",
   "metadata": {},
   "outputs": [
    {
     "name": "stdout",
     "output_type": "stream",
     "text": [
      "rm: topics.json: No such file or directory\n"
     ]
    }
   ],
   "source": [
    "!rm topics.json"
   ]
  },
  {
   "cell_type": "code",
   "execution_count": 3,
   "id": "2b349069",
   "metadata": {},
   "outputs": [],
   "source": [
    "import json"
   ]
  },
  {
   "cell_type": "code",
   "execution_count": 17,
   "id": "4040aecf",
   "metadata": {},
   "outputs": [
    {
     "name": "stderr",
     "output_type": "stream",
     "text": [
      "  % Total    % Received % Xferd  Average Speed   Time    Time     Time  Current\n",
      "                                 Dload  Upload   Total   Spent    Left  Speed\n",
      "\n",
      "  0     0    0     0    0     0      0      0 --:--:-- --:--:-- --:--:--     0\n",
      "100 15735    0 15735    0     0   231k      0 --:--:-- --:--:-- --:--:--  232k\n"
     ]
    },
    {
     "data": {
      "text/plain": [
       "{'kind': 'KafkaTopicConfigList',\n",
       " 'metadata': {'self': 'http://rest-proxy:8082/v3/clusters/dYcsmY32SRecmP5353bVlg/topics/postgres.public.boarding_passes/configs',\n",
       "  'next': None},\n",
       " 'data': [{'kind': 'KafkaTopicConfig',\n",
       "   'metadata': {'self': 'http://rest-proxy:8082/v3/clusters/dYcsmY32SRecmP5353bVlg/topics/postgres.public.boarding_passes/configs/cleanup.policy',\n",
       "    'resource_name': 'crn:///kafka=dYcsmY32SRecmP5353bVlg/topic=postgres.public.boarding_passes/config=cleanup.policy'},\n",
       "   'cluster_id': 'dYcsmY32SRecmP5353bVlg',\n",
       "   'name': 'cleanup.policy',\n",
       "   'value': 'delete',\n",
       "   'is_read_only': False,\n",
       "   'is_sensitive': False,\n",
       "   'source': 'DYNAMIC_TOPIC_CONFIG',\n",
       "   'synonyms': [{'name': 'cleanup.policy',\n",
       "     'value': 'delete',\n",
       "     'source': 'DYNAMIC_TOPIC_CONFIG'},\n",
       "    {'name': 'log.cleanup.policy',\n",
       "     'value': 'delete',\n",
       "     'source': 'DEFAULT_CONFIG'}],\n",
       "   'topic_name': 'postgres.public.boarding_passes',\n",
       "   'is_default': False},\n",
       "  {'kind': 'KafkaTopicConfig',\n",
       "   'metadata': {'self': 'http://rest-proxy:8082/v3/clusters/dYcsmY32SRecmP5353bVlg/topics/postgres.public.boarding_passes/configs/compression.type',\n",
       "    'resource_name': 'crn:///kafka=dYcsmY32SRecmP5353bVlg/topic=postgres.public.boarding_passes/config=compression.type'},\n",
       "   'cluster_id': 'dYcsmY32SRecmP5353bVlg',\n",
       "   'name': 'compression.type',\n",
       "   'value': 'producer',\n",
       "   'is_read_only': False,\n",
       "   'is_sensitive': False,\n",
       "   'source': 'DEFAULT_CONFIG',\n",
       "   'synonyms': [{'name': 'compression.type',\n",
       "     'value': 'producer',\n",
       "     'source': 'DEFAULT_CONFIG'}],\n",
       "   'topic_name': 'postgres.public.boarding_passes',\n",
       "   'is_default': True},\n",
       "  {'kind': 'KafkaTopicConfig',\n",
       "   'metadata': {'self': 'http://rest-proxy:8082/v3/clusters/dYcsmY32SRecmP5353bVlg/topics/postgres.public.boarding_passes/configs/delete.retention.ms',\n",
       "    'resource_name': 'crn:///kafka=dYcsmY32SRecmP5353bVlg/topic=postgres.public.boarding_passes/config=delete.retention.ms'},\n",
       "   'cluster_id': 'dYcsmY32SRecmP5353bVlg',\n",
       "   'name': 'delete.retention.ms',\n",
       "   'value': '86400000',\n",
       "   'is_read_only': False,\n",
       "   'is_sensitive': False,\n",
       "   'source': 'DEFAULT_CONFIG',\n",
       "   'synonyms': [{'name': 'log.cleaner.delete.retention.ms',\n",
       "     'value': '86400000',\n",
       "     'source': 'DEFAULT_CONFIG'}],\n",
       "   'topic_name': 'postgres.public.boarding_passes',\n",
       "   'is_default': True},\n",
       "  {'kind': 'KafkaTopicConfig',\n",
       "   'metadata': {'self': 'http://rest-proxy:8082/v3/clusters/dYcsmY32SRecmP5353bVlg/topics/postgres.public.boarding_passes/configs/file.delete.delay.ms',\n",
       "    'resource_name': 'crn:///kafka=dYcsmY32SRecmP5353bVlg/topic=postgres.public.boarding_passes/config=file.delete.delay.ms'},\n",
       "   'cluster_id': 'dYcsmY32SRecmP5353bVlg',\n",
       "   'name': 'file.delete.delay.ms',\n",
       "   'value': '60000',\n",
       "   'is_read_only': False,\n",
       "   'is_sensitive': False,\n",
       "   'source': 'DEFAULT_CONFIG',\n",
       "   'synonyms': [{'name': 'log.segment.delete.delay.ms',\n",
       "     'value': '60000',\n",
       "     'source': 'DEFAULT_CONFIG'}],\n",
       "   'topic_name': 'postgres.public.boarding_passes',\n",
       "   'is_default': True},\n",
       "  {'kind': 'KafkaTopicConfig',\n",
       "   'metadata': {'self': 'http://rest-proxy:8082/v3/clusters/dYcsmY32SRecmP5353bVlg/topics/postgres.public.boarding_passes/configs/flush.messages',\n",
       "    'resource_name': 'crn:///kafka=dYcsmY32SRecmP5353bVlg/topic=postgres.public.boarding_passes/config=flush.messages'},\n",
       "   'cluster_id': 'dYcsmY32SRecmP5353bVlg',\n",
       "   'name': 'flush.messages',\n",
       "   'value': '9223372036854775807',\n",
       "   'is_read_only': False,\n",
       "   'is_sensitive': False,\n",
       "   'source': 'DEFAULT_CONFIG',\n",
       "   'synonyms': [{'name': 'log.flush.interval.messages',\n",
       "     'value': '9223372036854775807',\n",
       "     'source': 'DEFAULT_CONFIG'}],\n",
       "   'topic_name': 'postgres.public.boarding_passes',\n",
       "   'is_default': True},\n",
       "  {'kind': 'KafkaTopicConfig',\n",
       "   'metadata': {'self': 'http://rest-proxy:8082/v3/clusters/dYcsmY32SRecmP5353bVlg/topics/postgres.public.boarding_passes/configs/flush.ms',\n",
       "    'resource_name': 'crn:///kafka=dYcsmY32SRecmP5353bVlg/topic=postgres.public.boarding_passes/config=flush.ms'},\n",
       "   'cluster_id': 'dYcsmY32SRecmP5353bVlg',\n",
       "   'name': 'flush.ms',\n",
       "   'value': '9223372036854775807',\n",
       "   'is_read_only': False,\n",
       "   'is_sensitive': False,\n",
       "   'source': 'DEFAULT_CONFIG',\n",
       "   'synonyms': [],\n",
       "   'topic_name': 'postgres.public.boarding_passes',\n",
       "   'is_default': True},\n",
       "  {'kind': 'KafkaTopicConfig',\n",
       "   'metadata': {'self': 'http://rest-proxy:8082/v3/clusters/dYcsmY32SRecmP5353bVlg/topics/postgres.public.boarding_passes/configs/follower.replication.throttled.replicas',\n",
       "    'resource_name': 'crn:///kafka=dYcsmY32SRecmP5353bVlg/topic=postgres.public.boarding_passes/config=follower.replication.throttled.replicas'},\n",
       "   'cluster_id': 'dYcsmY32SRecmP5353bVlg',\n",
       "   'name': 'follower.replication.throttled.replicas',\n",
       "   'value': '',\n",
       "   'is_read_only': False,\n",
       "   'is_sensitive': False,\n",
       "   'source': 'DEFAULT_CONFIG',\n",
       "   'synonyms': [],\n",
       "   'topic_name': 'postgres.public.boarding_passes',\n",
       "   'is_default': True},\n",
       "  {'kind': 'KafkaTopicConfig',\n",
       "   'metadata': {'self': 'http://rest-proxy:8082/v3/clusters/dYcsmY32SRecmP5353bVlg/topics/postgres.public.boarding_passes/configs/index.interval.bytes',\n",
       "    'resource_name': 'crn:///kafka=dYcsmY32SRecmP5353bVlg/topic=postgres.public.boarding_passes/config=index.interval.bytes'},\n",
       "   'cluster_id': 'dYcsmY32SRecmP5353bVlg',\n",
       "   'name': 'index.interval.bytes',\n",
       "   'value': '4096',\n",
       "   'is_read_only': False,\n",
       "   'is_sensitive': False,\n",
       "   'source': 'DEFAULT_CONFIG',\n",
       "   'synonyms': [{'name': 'log.index.interval.bytes',\n",
       "     'value': '4096',\n",
       "     'source': 'DEFAULT_CONFIG'}],\n",
       "   'topic_name': 'postgres.public.boarding_passes',\n",
       "   'is_default': True},\n",
       "  {'kind': 'KafkaTopicConfig',\n",
       "   'metadata': {'self': 'http://rest-proxy:8082/v3/clusters/dYcsmY32SRecmP5353bVlg/topics/postgres.public.boarding_passes/configs/leader.replication.throttled.replicas',\n",
       "    'resource_name': 'crn:///kafka=dYcsmY32SRecmP5353bVlg/topic=postgres.public.boarding_passes/config=leader.replication.throttled.replicas'},\n",
       "   'cluster_id': 'dYcsmY32SRecmP5353bVlg',\n",
       "   'name': 'leader.replication.throttled.replicas',\n",
       "   'value': '',\n",
       "   'is_read_only': False,\n",
       "   'is_sensitive': False,\n",
       "   'source': 'DEFAULT_CONFIG',\n",
       "   'synonyms': [],\n",
       "   'topic_name': 'postgres.public.boarding_passes',\n",
       "   'is_default': True},\n",
       "  {'kind': 'KafkaTopicConfig',\n",
       "   'metadata': {'self': 'http://rest-proxy:8082/v3/clusters/dYcsmY32SRecmP5353bVlg/topics/postgres.public.boarding_passes/configs/max.compaction.lag.ms',\n",
       "    'resource_name': 'crn:///kafka=dYcsmY32SRecmP5353bVlg/topic=postgres.public.boarding_passes/config=max.compaction.lag.ms'},\n",
       "   'cluster_id': 'dYcsmY32SRecmP5353bVlg',\n",
       "   'name': 'max.compaction.lag.ms',\n",
       "   'value': '9223372036854775807',\n",
       "   'is_read_only': False,\n",
       "   'is_sensitive': False,\n",
       "   'source': 'DEFAULT_CONFIG',\n",
       "   'synonyms': [{'name': 'log.cleaner.max.compaction.lag.ms',\n",
       "     'value': '9223372036854775807',\n",
       "     'source': 'DEFAULT_CONFIG'}],\n",
       "   'topic_name': 'postgres.public.boarding_passes',\n",
       "   'is_default': True},\n",
       "  {'kind': 'KafkaTopicConfig',\n",
       "   'metadata': {'self': 'http://rest-proxy:8082/v3/clusters/dYcsmY32SRecmP5353bVlg/topics/postgres.public.boarding_passes/configs/max.message.bytes',\n",
       "    'resource_name': 'crn:///kafka=dYcsmY32SRecmP5353bVlg/topic=postgres.public.boarding_passes/config=max.message.bytes'},\n",
       "   'cluster_id': 'dYcsmY32SRecmP5353bVlg',\n",
       "   'name': 'max.message.bytes',\n",
       "   'value': '1048588',\n",
       "   'is_read_only': False,\n",
       "   'is_sensitive': False,\n",
       "   'source': 'DEFAULT_CONFIG',\n",
       "   'synonyms': [{'name': 'message.max.bytes',\n",
       "     'value': '1048588',\n",
       "     'source': 'DEFAULT_CONFIG'}],\n",
       "   'topic_name': 'postgres.public.boarding_passes',\n",
       "   'is_default': True},\n",
       "  {'kind': 'KafkaTopicConfig',\n",
       "   'metadata': {'self': 'http://rest-proxy:8082/v3/clusters/dYcsmY32SRecmP5353bVlg/topics/postgres.public.boarding_passes/configs/message.downconversion.enable',\n",
       "    'resource_name': 'crn:///kafka=dYcsmY32SRecmP5353bVlg/topic=postgres.public.boarding_passes/config=message.downconversion.enable'},\n",
       "   'cluster_id': 'dYcsmY32SRecmP5353bVlg',\n",
       "   'name': 'message.downconversion.enable',\n",
       "   'value': 'true',\n",
       "   'is_read_only': False,\n",
       "   'is_sensitive': False,\n",
       "   'source': 'DEFAULT_CONFIG',\n",
       "   'synonyms': [{'name': 'log.message.downconversion.enable',\n",
       "     'value': 'true',\n",
       "     'source': 'DEFAULT_CONFIG'}],\n",
       "   'topic_name': 'postgres.public.boarding_passes',\n",
       "   'is_default': True},\n",
       "  {'kind': 'KafkaTopicConfig',\n",
       "   'metadata': {'self': 'http://rest-proxy:8082/v3/clusters/dYcsmY32SRecmP5353bVlg/topics/postgres.public.boarding_passes/configs/message.format.version',\n",
       "    'resource_name': 'crn:///kafka=dYcsmY32SRecmP5353bVlg/topic=postgres.public.boarding_passes/config=message.format.version'},\n",
       "   'cluster_id': 'dYcsmY32SRecmP5353bVlg',\n",
       "   'name': 'message.format.version',\n",
       "   'value': '3.0-IV1',\n",
       "   'is_read_only': False,\n",
       "   'is_sensitive': False,\n",
       "   'source': 'DEFAULT_CONFIG',\n",
       "   'synonyms': [{'name': 'log.message.format.version',\n",
       "     'value': '3.0-IV1',\n",
       "     'source': 'DEFAULT_CONFIG'}],\n",
       "   'topic_name': 'postgres.public.boarding_passes',\n",
       "   'is_default': True},\n",
       "  {'kind': 'KafkaTopicConfig',\n",
       "   'metadata': {'self': 'http://rest-proxy:8082/v3/clusters/dYcsmY32SRecmP5353bVlg/topics/postgres.public.boarding_passes/configs/message.timestamp.difference.max.ms',\n",
       "    'resource_name': 'crn:///kafka=dYcsmY32SRecmP5353bVlg/topic=postgres.public.boarding_passes/config=message.timestamp.difference.max.ms'},\n",
       "   'cluster_id': 'dYcsmY32SRecmP5353bVlg',\n",
       "   'name': 'message.timestamp.difference.max.ms',\n",
       "   'value': '9223372036854775807',\n",
       "   'is_read_only': False,\n",
       "   'is_sensitive': False,\n",
       "   'source': 'DEFAULT_CONFIG',\n",
       "   'synonyms': [{'name': 'log.message.timestamp.difference.max.ms',\n",
       "     'value': '9223372036854775807',\n",
       "     'source': 'DEFAULT_CONFIG'}],\n",
       "   'topic_name': 'postgres.public.boarding_passes',\n",
       "   'is_default': True},\n",
       "  {'kind': 'KafkaTopicConfig',\n",
       "   'metadata': {'self': 'http://rest-proxy:8082/v3/clusters/dYcsmY32SRecmP5353bVlg/topics/postgres.public.boarding_passes/configs/message.timestamp.type',\n",
       "    'resource_name': 'crn:///kafka=dYcsmY32SRecmP5353bVlg/topic=postgres.public.boarding_passes/config=message.timestamp.type'},\n",
       "   'cluster_id': 'dYcsmY32SRecmP5353bVlg',\n",
       "   'name': 'message.timestamp.type',\n",
       "   'value': 'CreateTime',\n",
       "   'is_read_only': False,\n",
       "   'is_sensitive': False,\n",
       "   'source': 'DEFAULT_CONFIG',\n",
       "   'synonyms': [{'name': 'log.message.timestamp.type',\n",
       "     'value': 'CreateTime',\n",
       "     'source': 'DEFAULT_CONFIG'}],\n",
       "   'topic_name': 'postgres.public.boarding_passes',\n",
       "   'is_default': True},\n",
       "  {'kind': 'KafkaTopicConfig',\n",
       "   'metadata': {'self': 'http://rest-proxy:8082/v3/clusters/dYcsmY32SRecmP5353bVlg/topics/postgres.public.boarding_passes/configs/min.cleanable.dirty.ratio',\n",
       "    'resource_name': 'crn:///kafka=dYcsmY32SRecmP5353bVlg/topic=postgres.public.boarding_passes/config=min.cleanable.dirty.ratio'},\n",
       "   'cluster_id': 'dYcsmY32SRecmP5353bVlg',\n",
       "   'name': 'min.cleanable.dirty.ratio',\n",
       "   'value': '0.5',\n",
       "   'is_read_only': False,\n",
       "   'is_sensitive': False,\n",
       "   'source': 'DEFAULT_CONFIG',\n",
       "   'synonyms': [{'name': 'log.cleaner.min.cleanable.ratio',\n",
       "     'value': '0.5',\n",
       "     'source': 'DEFAULT_CONFIG'}],\n",
       "   'topic_name': 'postgres.public.boarding_passes',\n",
       "   'is_default': True},\n",
       "  {'kind': 'KafkaTopicConfig',\n",
       "   'metadata': {'self': 'http://rest-proxy:8082/v3/clusters/dYcsmY32SRecmP5353bVlg/topics/postgres.public.boarding_passes/configs/min.compaction.lag.ms',\n",
       "    'resource_name': 'crn:///kafka=dYcsmY32SRecmP5353bVlg/topic=postgres.public.boarding_passes/config=min.compaction.lag.ms'},\n",
       "   'cluster_id': 'dYcsmY32SRecmP5353bVlg',\n",
       "   'name': 'min.compaction.lag.ms',\n",
       "   'value': '0',\n",
       "   'is_read_only': False,\n",
       "   'is_sensitive': False,\n",
       "   'source': 'DEFAULT_CONFIG',\n",
       "   'synonyms': [{'name': 'log.cleaner.min.compaction.lag.ms',\n",
       "     'value': '0',\n",
       "     'source': 'DEFAULT_CONFIG'}],\n",
       "   'topic_name': 'postgres.public.boarding_passes',\n",
       "   'is_default': True},\n",
       "  {'kind': 'KafkaTopicConfig',\n",
       "   'metadata': {'self': 'http://rest-proxy:8082/v3/clusters/dYcsmY32SRecmP5353bVlg/topics/postgres.public.boarding_passes/configs/min.insync.replicas',\n",
       "    'resource_name': 'crn:///kafka=dYcsmY32SRecmP5353bVlg/topic=postgres.public.boarding_passes/config=min.insync.replicas'},\n",
       "   'cluster_id': 'dYcsmY32SRecmP5353bVlg',\n",
       "   'name': 'min.insync.replicas',\n",
       "   'value': '1',\n",
       "   'is_read_only': False,\n",
       "   'is_sensitive': False,\n",
       "   'source': 'DEFAULT_CONFIG',\n",
       "   'synonyms': [{'name': 'min.insync.replicas',\n",
       "     'value': '1',\n",
       "     'source': 'DEFAULT_CONFIG'}],\n",
       "   'topic_name': 'postgres.public.boarding_passes',\n",
       "   'is_default': True},\n",
       "  {'kind': 'KafkaTopicConfig',\n",
       "   'metadata': {'self': 'http://rest-proxy:8082/v3/clusters/dYcsmY32SRecmP5353bVlg/topics/postgres.public.boarding_passes/configs/preallocate',\n",
       "    'resource_name': 'crn:///kafka=dYcsmY32SRecmP5353bVlg/topic=postgres.public.boarding_passes/config=preallocate'},\n",
       "   'cluster_id': 'dYcsmY32SRecmP5353bVlg',\n",
       "   'name': 'preallocate',\n",
       "   'value': 'false',\n",
       "   'is_read_only': False,\n",
       "   'is_sensitive': False,\n",
       "   'source': 'DEFAULT_CONFIG',\n",
       "   'synonyms': [{'name': 'log.preallocate',\n",
       "     'value': 'false',\n",
       "     'source': 'DEFAULT_CONFIG'}],\n",
       "   'topic_name': 'postgres.public.boarding_passes',\n",
       "   'is_default': True},\n",
       "  {'kind': 'KafkaTopicConfig',\n",
       "   'metadata': {'self': 'http://rest-proxy:8082/v3/clusters/dYcsmY32SRecmP5353bVlg/topics/postgres.public.boarding_passes/configs/retention.bytes',\n",
       "    'resource_name': 'crn:///kafka=dYcsmY32SRecmP5353bVlg/topic=postgres.public.boarding_passes/config=retention.bytes'},\n",
       "   'cluster_id': 'dYcsmY32SRecmP5353bVlg',\n",
       "   'name': 'retention.bytes',\n",
       "   'value': '-1',\n",
       "   'is_read_only': False,\n",
       "   'is_sensitive': False,\n",
       "   'source': 'DEFAULT_CONFIG',\n",
       "   'synonyms': [{'name': 'log.retention.bytes',\n",
       "     'value': '-1',\n",
       "     'source': 'DEFAULT_CONFIG'}],\n",
       "   'topic_name': 'postgres.public.boarding_passes',\n",
       "   'is_default': True},\n",
       "  {'kind': 'KafkaTopicConfig',\n",
       "   'metadata': {'self': 'http://rest-proxy:8082/v3/clusters/dYcsmY32SRecmP5353bVlg/topics/postgres.public.boarding_passes/configs/retention.ms',\n",
       "    'resource_name': 'crn:///kafka=dYcsmY32SRecmP5353bVlg/topic=postgres.public.boarding_passes/config=retention.ms'},\n",
       "   'cluster_id': 'dYcsmY32SRecmP5353bVlg',\n",
       "   'name': 'retention.ms',\n",
       "   'value': '604800000',\n",
       "   'is_read_only': False,\n",
       "   'is_sensitive': False,\n",
       "   'source': 'DYNAMIC_TOPIC_CONFIG',\n",
       "   'synonyms': [{'name': 'retention.ms',\n",
       "     'value': '604800000',\n",
       "     'source': 'DYNAMIC_TOPIC_CONFIG'}],\n",
       "   'topic_name': 'postgres.public.boarding_passes',\n",
       "   'is_default': False},\n",
       "  {'kind': 'KafkaTopicConfig',\n",
       "   'metadata': {'self': 'http://rest-proxy:8082/v3/clusters/dYcsmY32SRecmP5353bVlg/topics/postgres.public.boarding_passes/configs/segment.bytes',\n",
       "    'resource_name': 'crn:///kafka=dYcsmY32SRecmP5353bVlg/topic=postgres.public.boarding_passes/config=segment.bytes'},\n",
       "   'cluster_id': 'dYcsmY32SRecmP5353bVlg',\n",
       "   'name': 'segment.bytes',\n",
       "   'value': '1073741824',\n",
       "   'is_read_only': False,\n",
       "   'is_sensitive': False,\n",
       "   'source': 'DEFAULT_CONFIG',\n",
       "   'synonyms': [{'name': 'log.segment.bytes',\n",
       "     'value': '1073741824',\n",
       "     'source': 'DEFAULT_CONFIG'}],\n",
       "   'topic_name': 'postgres.public.boarding_passes',\n",
       "   'is_default': True},\n",
       "  {'kind': 'KafkaTopicConfig',\n",
       "   'metadata': {'self': 'http://rest-proxy:8082/v3/clusters/dYcsmY32SRecmP5353bVlg/topics/postgres.public.boarding_passes/configs/segment.index.bytes',\n",
       "    'resource_name': 'crn:///kafka=dYcsmY32SRecmP5353bVlg/topic=postgres.public.boarding_passes/config=segment.index.bytes'},\n",
       "   'cluster_id': 'dYcsmY32SRecmP5353bVlg',\n",
       "   'name': 'segment.index.bytes',\n",
       "   'value': '10485760',\n",
       "   'is_read_only': False,\n",
       "   'is_sensitive': False,\n",
       "   'source': 'DEFAULT_CONFIG',\n",
       "   'synonyms': [{'name': 'log.index.size.max.bytes',\n",
       "     'value': '10485760',\n",
       "     'source': 'DEFAULT_CONFIG'}],\n",
       "   'topic_name': 'postgres.public.boarding_passes',\n",
       "   'is_default': True},\n",
       "  {'kind': 'KafkaTopicConfig',\n",
       "   'metadata': {'self': 'http://rest-proxy:8082/v3/clusters/dYcsmY32SRecmP5353bVlg/topics/postgres.public.boarding_passes/configs/segment.jitter.ms',\n",
       "    'resource_name': 'crn:///kafka=dYcsmY32SRecmP5353bVlg/topic=postgres.public.boarding_passes/config=segment.jitter.ms'},\n",
       "   'cluster_id': 'dYcsmY32SRecmP5353bVlg',\n",
       "   'name': 'segment.jitter.ms',\n",
       "   'value': '0',\n",
       "   'is_read_only': False,\n",
       "   'is_sensitive': False,\n",
       "   'source': 'DEFAULT_CONFIG',\n",
       "   'synonyms': [],\n",
       "   'topic_name': 'postgres.public.boarding_passes',\n",
       "   'is_default': True},\n",
       "  {'kind': 'KafkaTopicConfig',\n",
       "   'metadata': {'self': 'http://rest-proxy:8082/v3/clusters/dYcsmY32SRecmP5353bVlg/topics/postgres.public.boarding_passes/configs/segment.ms',\n",
       "    'resource_name': 'crn:///kafka=dYcsmY32SRecmP5353bVlg/topic=postgres.public.boarding_passes/config=segment.ms'},\n",
       "   'cluster_id': 'dYcsmY32SRecmP5353bVlg',\n",
       "   'name': 'segment.ms',\n",
       "   'value': '604800000',\n",
       "   'is_read_only': False,\n",
       "   'is_sensitive': False,\n",
       "   'source': 'DEFAULT_CONFIG',\n",
       "   'synonyms': [],\n",
       "   'topic_name': 'postgres.public.boarding_passes',\n",
       "   'is_default': True},\n",
       "  {'kind': 'KafkaTopicConfig',\n",
       "   'metadata': {'self': 'http://rest-proxy:8082/v3/clusters/dYcsmY32SRecmP5353bVlg/topics/postgres.public.boarding_passes/configs/unclean.leader.election.enable',\n",
       "    'resource_name': 'crn:///kafka=dYcsmY32SRecmP5353bVlg/topic=postgres.public.boarding_passes/config=unclean.leader.election.enable'},\n",
       "   'cluster_id': 'dYcsmY32SRecmP5353bVlg',\n",
       "   'name': 'unclean.leader.election.enable',\n",
       "   'value': 'false',\n",
       "   'is_read_only': False,\n",
       "   'is_sensitive': False,\n",
       "   'source': 'DEFAULT_CONFIG',\n",
       "   'synonyms': [{'name': 'unclean.leader.election.enable',\n",
       "     'value': 'false',\n",
       "     'source': 'DEFAULT_CONFIG'}],\n",
       "   'topic_name': 'postgres.public.boarding_passes',\n",
       "   'is_default': True}]}"
      ]
     },
     "execution_count": 17,
     "metadata": {},
     "output_type": "execute_result"
    }
   ],
   "source": [
    "!curl http://localhost:8082/v3/clusters/dYcsmY32SRecmP5353bVlg/topics/postgres.public.boarding_passes/configs -o 1.json\n",
    "\n",
    "with open('1.json', 'r') as f:\n",
    "    one = json.load(f)\n",
    "one"
   ]
  },
  {
   "cell_type": "code",
   "execution_count": null,
   "id": "68ccd39d",
   "metadata": {},
   "outputs": [
    {
     "name": "stderr",
     "output_type": "stream",
     "text": [
      "  % Total    % Received % Xferd  Average Speed   Time    Time     Time  Current\n",
      "                                 Dload  Upload   Total   Spent    Left  Speed\n",
      "\n",
      "  0     0    0     0    0     0      0      0 --:--:-- --:--:-- --:--:--     0\n",
      "  0     0    0     0    0     0      0      0 --:--:-- --:--:-- --:--:--     0\n",
      "  0     0    0     0    0     0      0      0 --:--:--  0:00:01 --:--:--     0curl: (6) Could not resolve host: rest-proxy\n"
     ]
    }
   ],
   "source": [
    "!curl http://localhost:8082/v3/clusters/x7CHkIiVTgiq-_6Ob3dE_A/topics -o topics.json"
   ]
  },
  {
   "cell_type": "code",
   "execution_count": 8,
   "id": "e32634c8",
   "metadata": {},
   "outputs": [
    {
     "data": {
      "text/plain": [
       "{'kind': 'KafkaTopicList',\n",
       " 'metadata': {'self': 'http://rest-proxy:8082/v3/clusters/dYcsmY32SRecmP5353bVlg/topics',\n",
       "  'next': None},\n",
       " 'data': [{'kind': 'KafkaTopic',\n",
       "   'metadata': {'self': 'http://rest-proxy:8082/v3/clusters/dYcsmY32SRecmP5353bVlg/topics/__debezium-heartbeat.postgres',\n",
       "    'resource_name': 'crn:///kafka=dYcsmY32SRecmP5353bVlg/topic=__debezium-heartbeat.postgres'},\n",
       "   'cluster_id': 'dYcsmY32SRecmP5353bVlg',\n",
       "   'topic_name': '__debezium-heartbeat.postgres',\n",
       "   'is_internal': False,\n",
       "   'replication_factor': 1,\n",
       "   'partitions_count': 1,\n",
       "   'partitions': {'related': 'http://rest-proxy:8082/v3/clusters/dYcsmY32SRecmP5353bVlg/topics/__debezium-heartbeat.postgres/partitions'},\n",
       "   'configs': {'related': 'http://rest-proxy:8082/v3/clusters/dYcsmY32SRecmP5353bVlg/topics/__debezium-heartbeat.postgres/configs'},\n",
       "   'partition_reassignments': {'related': 'http://rest-proxy:8082/v3/clusters/dYcsmY32SRecmP5353bVlg/topics/__debezium-heartbeat.postgres/partitions/-/reassignment'},\n",
       "   'authorized_operations': []},\n",
       "  {'kind': 'KafkaTopic',\n",
       "   'metadata': {'self': 'http://rest-proxy:8082/v3/clusters/dYcsmY32SRecmP5353bVlg/topics/_schemas',\n",
       "    'resource_name': 'crn:///kafka=dYcsmY32SRecmP5353bVlg/topic=_schemas'},\n",
       "   'cluster_id': 'dYcsmY32SRecmP5353bVlg',\n",
       "   'topic_name': '_schemas',\n",
       "   'is_internal': False,\n",
       "   'replication_factor': 1,\n",
       "   'partitions_count': 1,\n",
       "   'partitions': {'related': 'http://rest-proxy:8082/v3/clusters/dYcsmY32SRecmP5353bVlg/topics/_schemas/partitions'},\n",
       "   'configs': {'related': 'http://rest-proxy:8082/v3/clusters/dYcsmY32SRecmP5353bVlg/topics/_schemas/configs'},\n",
       "   'partition_reassignments': {'related': 'http://rest-proxy:8082/v3/clusters/dYcsmY32SRecmP5353bVlg/topics/_schemas/partitions/-/reassignment'},\n",
       "   'authorized_operations': []},\n",
       "  {'kind': 'KafkaTopic',\n",
       "   'metadata': {'self': 'http://rest-proxy:8082/v3/clusters/dYcsmY32SRecmP5353bVlg/topics/connect_configs',\n",
       "    'resource_name': 'crn:///kafka=dYcsmY32SRecmP5353bVlg/topic=connect_configs'},\n",
       "   'cluster_id': 'dYcsmY32SRecmP5353bVlg',\n",
       "   'topic_name': 'connect_configs',\n",
       "   'is_internal': False,\n",
       "   'replication_factor': 1,\n",
       "   'partitions_count': 1,\n",
       "   'partitions': {'related': 'http://rest-proxy:8082/v3/clusters/dYcsmY32SRecmP5353bVlg/topics/connect_configs/partitions'},\n",
       "   'configs': {'related': 'http://rest-proxy:8082/v3/clusters/dYcsmY32SRecmP5353bVlg/topics/connect_configs/configs'},\n",
       "   'partition_reassignments': {'related': 'http://rest-proxy:8082/v3/clusters/dYcsmY32SRecmP5353bVlg/topics/connect_configs/partitions/-/reassignment'},\n",
       "   'authorized_operations': []},\n",
       "  {'kind': 'KafkaTopic',\n",
       "   'metadata': {'self': 'http://rest-proxy:8082/v3/clusters/dYcsmY32SRecmP5353bVlg/topics/connect_offsets',\n",
       "    'resource_name': 'crn:///kafka=dYcsmY32SRecmP5353bVlg/topic=connect_offsets'},\n",
       "   'cluster_id': 'dYcsmY32SRecmP5353bVlg',\n",
       "   'topic_name': 'connect_offsets',\n",
       "   'is_internal': False,\n",
       "   'replication_factor': 1,\n",
       "   'partitions_count': 25,\n",
       "   'partitions': {'related': 'http://rest-proxy:8082/v3/clusters/dYcsmY32SRecmP5353bVlg/topics/connect_offsets/partitions'},\n",
       "   'configs': {'related': 'http://rest-proxy:8082/v3/clusters/dYcsmY32SRecmP5353bVlg/topics/connect_offsets/configs'},\n",
       "   'partition_reassignments': {'related': 'http://rest-proxy:8082/v3/clusters/dYcsmY32SRecmP5353bVlg/topics/connect_offsets/partitions/-/reassignment'},\n",
       "   'authorized_operations': []},\n",
       "  {'kind': 'KafkaTopic',\n",
       "   'metadata': {'self': 'http://rest-proxy:8082/v3/clusters/dYcsmY32SRecmP5353bVlg/topics/connect_statuses',\n",
       "    'resource_name': 'crn:///kafka=dYcsmY32SRecmP5353bVlg/topic=connect_statuses'},\n",
       "   'cluster_id': 'dYcsmY32SRecmP5353bVlg',\n",
       "   'topic_name': 'connect_statuses',\n",
       "   'is_internal': False,\n",
       "   'replication_factor': 1,\n",
       "   'partitions_count': 5,\n",
       "   'partitions': {'related': 'http://rest-proxy:8082/v3/clusters/dYcsmY32SRecmP5353bVlg/topics/connect_statuses/partitions'},\n",
       "   'configs': {'related': 'http://rest-proxy:8082/v3/clusters/dYcsmY32SRecmP5353bVlg/topics/connect_statuses/configs'},\n",
       "   'partition_reassignments': {'related': 'http://rest-proxy:8082/v3/clusters/dYcsmY32SRecmP5353bVlg/topics/connect_statuses/partitions/-/reassignment'},\n",
       "   'authorized_operations': []},\n",
       "  {'kind': 'KafkaTopic',\n",
       "   'metadata': {'self': 'http://rest-proxy:8082/v3/clusters/dYcsmY32SRecmP5353bVlg/topics/postgres.public.aircraft',\n",
       "    'resource_name': 'crn:///kafka=dYcsmY32SRecmP5353bVlg/topic=postgres.public.aircraft'},\n",
       "   'cluster_id': 'dYcsmY32SRecmP5353bVlg',\n",
       "   'topic_name': 'postgres.public.aircraft',\n",
       "   'is_internal': False,\n",
       "   'replication_factor': 1,\n",
       "   'partitions_count': 1,\n",
       "   'partitions': {'related': 'http://rest-proxy:8082/v3/clusters/dYcsmY32SRecmP5353bVlg/topics/postgres.public.aircraft/partitions'},\n",
       "   'configs': {'related': 'http://rest-proxy:8082/v3/clusters/dYcsmY32SRecmP5353bVlg/topics/postgres.public.aircraft/configs'},\n",
       "   'partition_reassignments': {'related': 'http://rest-proxy:8082/v3/clusters/dYcsmY32SRecmP5353bVlg/topics/postgres.public.aircraft/partitions/-/reassignment'},\n",
       "   'authorized_operations': []},\n",
       "  {'kind': 'KafkaTopic',\n",
       "   'metadata': {'self': 'http://rest-proxy:8082/v3/clusters/dYcsmY32SRecmP5353bVlg/topics/postgres.public.airports',\n",
       "    'resource_name': 'crn:///kafka=dYcsmY32SRecmP5353bVlg/topic=postgres.public.airports'},\n",
       "   'cluster_id': 'dYcsmY32SRecmP5353bVlg',\n",
       "   'topic_name': 'postgres.public.airports',\n",
       "   'is_internal': False,\n",
       "   'replication_factor': 1,\n",
       "   'partitions_count': 1,\n",
       "   'partitions': {'related': 'http://rest-proxy:8082/v3/clusters/dYcsmY32SRecmP5353bVlg/topics/postgres.public.airports/partitions'},\n",
       "   'configs': {'related': 'http://rest-proxy:8082/v3/clusters/dYcsmY32SRecmP5353bVlg/topics/postgres.public.airports/configs'},\n",
       "   'partition_reassignments': {'related': 'http://rest-proxy:8082/v3/clusters/dYcsmY32SRecmP5353bVlg/topics/postgres.public.airports/partitions/-/reassignment'},\n",
       "   'authorized_operations': []},\n",
       "  {'kind': 'KafkaTopic',\n",
       "   'metadata': {'self': 'http://rest-proxy:8082/v3/clusters/dYcsmY32SRecmP5353bVlg/topics/postgres.public.boarding_passes',\n",
       "    'resource_name': 'crn:///kafka=dYcsmY32SRecmP5353bVlg/topic=postgres.public.boarding_passes'},\n",
       "   'cluster_id': 'dYcsmY32SRecmP5353bVlg',\n",
       "   'topic_name': 'postgres.public.boarding_passes',\n",
       "   'is_internal': False,\n",
       "   'replication_factor': 1,\n",
       "   'partitions_count': 1,\n",
       "   'partitions': {'related': 'http://rest-proxy:8082/v3/clusters/dYcsmY32SRecmP5353bVlg/topics/postgres.public.boarding_passes/partitions'},\n",
       "   'configs': {'related': 'http://rest-proxy:8082/v3/clusters/dYcsmY32SRecmP5353bVlg/topics/postgres.public.boarding_passes/configs'},\n",
       "   'partition_reassignments': {'related': 'http://rest-proxy:8082/v3/clusters/dYcsmY32SRecmP5353bVlg/topics/postgres.public.boarding_passes/partitions/-/reassignment'},\n",
       "   'authorized_operations': []},\n",
       "  {'kind': 'KafkaTopic',\n",
       "   'metadata': {'self': 'http://rest-proxy:8082/v3/clusters/dYcsmY32SRecmP5353bVlg/topics/postgres.public.bookings',\n",
       "    'resource_name': 'crn:///kafka=dYcsmY32SRecmP5353bVlg/topic=postgres.public.bookings'},\n",
       "   'cluster_id': 'dYcsmY32SRecmP5353bVlg',\n",
       "   'topic_name': 'postgres.public.bookings',\n",
       "   'is_internal': False,\n",
       "   'replication_factor': 1,\n",
       "   'partitions_count': 1,\n",
       "   'partitions': {'related': 'http://rest-proxy:8082/v3/clusters/dYcsmY32SRecmP5353bVlg/topics/postgres.public.bookings/partitions'},\n",
       "   'configs': {'related': 'http://rest-proxy:8082/v3/clusters/dYcsmY32SRecmP5353bVlg/topics/postgres.public.bookings/configs'},\n",
       "   'partition_reassignments': {'related': 'http://rest-proxy:8082/v3/clusters/dYcsmY32SRecmP5353bVlg/topics/postgres.public.bookings/partitions/-/reassignment'},\n",
       "   'authorized_operations': []},\n",
       "  {'kind': 'KafkaTopic',\n",
       "   'metadata': {'self': 'http://rest-proxy:8082/v3/clusters/dYcsmY32SRecmP5353bVlg/topics/postgres.public.flights',\n",
       "    'resource_name': 'crn:///kafka=dYcsmY32SRecmP5353bVlg/topic=postgres.public.flights'},\n",
       "   'cluster_id': 'dYcsmY32SRecmP5353bVlg',\n",
       "   'topic_name': 'postgres.public.flights',\n",
       "   'is_internal': False,\n",
       "   'replication_factor': 1,\n",
       "   'partitions_count': 1,\n",
       "   'partitions': {'related': 'http://rest-proxy:8082/v3/clusters/dYcsmY32SRecmP5353bVlg/topics/postgres.public.flights/partitions'},\n",
       "   'configs': {'related': 'http://rest-proxy:8082/v3/clusters/dYcsmY32SRecmP5353bVlg/topics/postgres.public.flights/configs'},\n",
       "   'partition_reassignments': {'related': 'http://rest-proxy:8082/v3/clusters/dYcsmY32SRecmP5353bVlg/topics/postgres.public.flights/partitions/-/reassignment'},\n",
       "   'authorized_operations': []},\n",
       "  {'kind': 'KafkaTopic',\n",
       "   'metadata': {'self': 'http://rest-proxy:8082/v3/clusters/dYcsmY32SRecmP5353bVlg/topics/postgres.public.seats',\n",
       "    'resource_name': 'crn:///kafka=dYcsmY32SRecmP5353bVlg/topic=postgres.public.seats'},\n",
       "   'cluster_id': 'dYcsmY32SRecmP5353bVlg',\n",
       "   'topic_name': 'postgres.public.seats',\n",
       "   'is_internal': False,\n",
       "   'replication_factor': 1,\n",
       "   'partitions_count': 1,\n",
       "   'partitions': {'related': 'http://rest-proxy:8082/v3/clusters/dYcsmY32SRecmP5353bVlg/topics/postgres.public.seats/partitions'},\n",
       "   'configs': {'related': 'http://rest-proxy:8082/v3/clusters/dYcsmY32SRecmP5353bVlg/topics/postgres.public.seats/configs'},\n",
       "   'partition_reassignments': {'related': 'http://rest-proxy:8082/v3/clusters/dYcsmY32SRecmP5353bVlg/topics/postgres.public.seats/partitions/-/reassignment'},\n",
       "   'authorized_operations': []},\n",
       "  {'kind': 'KafkaTopic',\n",
       "   'metadata': {'self': 'http://rest-proxy:8082/v3/clusters/dYcsmY32SRecmP5353bVlg/topics/postgres.public.ticket_flights',\n",
       "    'resource_name': 'crn:///kafka=dYcsmY32SRecmP5353bVlg/topic=postgres.public.ticket_flights'},\n",
       "   'cluster_id': 'dYcsmY32SRecmP5353bVlg',\n",
       "   'topic_name': 'postgres.public.ticket_flights',\n",
       "   'is_internal': False,\n",
       "   'replication_factor': 1,\n",
       "   'partitions_count': 1,\n",
       "   'partitions': {'related': 'http://rest-proxy:8082/v3/clusters/dYcsmY32SRecmP5353bVlg/topics/postgres.public.ticket_flights/partitions'},\n",
       "   'configs': {'related': 'http://rest-proxy:8082/v3/clusters/dYcsmY32SRecmP5353bVlg/topics/postgres.public.ticket_flights/configs'},\n",
       "   'partition_reassignments': {'related': 'http://rest-proxy:8082/v3/clusters/dYcsmY32SRecmP5353bVlg/topics/postgres.public.ticket_flights/partitions/-/reassignment'},\n",
       "   'authorized_operations': []},\n",
       "  {'kind': 'KafkaTopic',\n",
       "   'metadata': {'self': 'http://rest-proxy:8082/v3/clusters/dYcsmY32SRecmP5353bVlg/topics/postgres.public.tickets',\n",
       "    'resource_name': 'crn:///kafka=dYcsmY32SRecmP5353bVlg/topic=postgres.public.tickets'},\n",
       "   'cluster_id': 'dYcsmY32SRecmP5353bVlg',\n",
       "   'topic_name': 'postgres.public.tickets',\n",
       "   'is_internal': False,\n",
       "   'replication_factor': 1,\n",
       "   'partitions_count': 1,\n",
       "   'partitions': {'related': 'http://rest-proxy:8082/v3/clusters/dYcsmY32SRecmP5353bVlg/topics/postgres.public.tickets/partitions'},\n",
       "   'configs': {'related': 'http://rest-proxy:8082/v3/clusters/dYcsmY32SRecmP5353bVlg/topics/postgres.public.tickets/configs'},\n",
       "   'partition_reassignments': {'related': 'http://rest-proxy:8082/v3/clusters/dYcsmY32SRecmP5353bVlg/topics/postgres.public.tickets/partitions/-/reassignment'},\n",
       "   'authorized_operations': []}]}"
      ]
     },
     "execution_count": 8,
     "metadata": {},
     "output_type": "execute_result"
    }
   ],
   "source": [
    "with open('topics.json', 'r') as f:\n",
    "    topics = json.load(f)\n",
    "topics"
   ]
  },
  {
   "cell_type": "code",
   "execution_count": 14,
   "id": "05460da7",
   "metadata": {},
   "outputs": [
    {
     "name": "stdout",
     "output_type": "stream",
     "text": [
      "__debezium-heartbeat.postgres\n",
      "_schemas\n",
      "connect_configs\n",
      "connect_offsets\n",
      "connect_statuses\n",
      "postgres.public.aircraft\n",
      "postgres.public.airports\n",
      "postgres.public.boarding_passes\n",
      "postgres.public.bookings\n",
      "postgres.public.flights\n",
      "postgres.public.seats\n",
      "postgres.public.ticket_flights\n",
      "postgres.public.tickets\n"
     ]
    }
   ],
   "source": [
    "for i in topics['data']:\n",
    "    # print(i)\n",
    "    # break\n",
    "    print(i['topic_name'])"
   ]
  },
  {
   "cell_type": "markdown",
   "id": "5e2d4064",
   "metadata": {},
   "source": [
    "### Шаг 3\n",
    "\n",
    "Видим, что при init для таблицы, в которой у нас уже были строки, уже создался топик<br>\n",
    "Давайте посмотрим, что туда записалось"
   ]
  },
  {
   "cell_type": "code",
   "execution_count": 21,
   "id": "3711ef49",
   "metadata": {},
   "outputs": [],
   "source": [
    "import json\n",
    "from kafka import KafkaConsumer\n",
    "\n",
    "KAFKA_HOST = \"localhost\"\n",
    "KAFKA_CONSUMER_GROUP = \"backend\"\n",
    "\n",
    "def read_single_message(topic=None):\n",
    "    assert topic is not None, 'You must specify topic name'\n",
    "    \n",
    "    consumer = KafkaConsumer(\n",
    "        bootstrap_servers=f\"{KAFKA_HOST}:9092\",\n",
    "        value_deserializer=lambda v: v if v is None else json.loads( v.decode(\"utf-8\") ),\n",
    "        auto_offset_reset=\"earliest\",\n",
    "        group_id=KAFKA_CONSUMER_GROUP\n",
    "    )\n",
    "    consumer.subscribe(topics=topic)\n",
    "\n",
    "    try:\n",
    "        for message in consumer:\n",
    "            value = message.value\n",
    "            return value\n",
    "    except Exception as e:\n",
    "            print(\"Closing consumer due to error\\n\")\n",
    "            consumer.close()\n",
    "            raise e\n",
    "    finally:\n",
    "        print(\"Closing consumer due to finish\\n\")\n",
    "        consumer.close()"
   ]
  },
  {
   "cell_type": "code",
   "execution_count": 23,
   "id": "c2968623",
   "metadata": {},
   "outputs": [
    {
     "name": "stdout",
     "output_type": "stream",
     "text": [
      "Closing consumer due to finish\n",
      "\n"
     ]
    },
    {
     "data": {
      "text/plain": [
       "{'schema': {'type': 'struct',\n",
       "  'fields': [{'type': 'struct',\n",
       "    'fields': [{'type': 'int32', 'optional': True, 'field': 'id'},\n",
       "     {'type': 'string', 'optional': True, 'field': 'name'}],\n",
       "    'optional': True,\n",
       "    'name': 'postgres.public.customers.Value',\n",
       "    'field': 'before'},\n",
       "   {'type': 'struct',\n",
       "    'fields': [{'type': 'int32', 'optional': True, 'field': 'id'},\n",
       "     {'type': 'string', 'optional': True, 'field': 'name'}],\n",
       "    'optional': True,\n",
       "    'name': 'postgres.public.customers.Value',\n",
       "    'field': 'after'},\n",
       "   {'type': 'struct',\n",
       "    'fields': [{'type': 'string', 'optional': False, 'field': 'version'},\n",
       "     {'type': 'string', 'optional': False, 'field': 'connector'},\n",
       "     {'type': 'string', 'optional': False, 'field': 'name'},\n",
       "     {'type': 'int64', 'optional': False, 'field': 'ts_ms'},\n",
       "     {'type': 'string',\n",
       "      'optional': True,\n",
       "      'name': 'io.debezium.data.Enum',\n",
       "      'version': 1,\n",
       "      'parameters': {'allowed': 'true,last,false,incremental'},\n",
       "      'default': 'false',\n",
       "      'field': 'snapshot'},\n",
       "     {'type': 'string', 'optional': False, 'field': 'db'},\n",
       "     {'type': 'string', 'optional': True, 'field': 'sequence'},\n",
       "     {'type': 'string', 'optional': False, 'field': 'schema'},\n",
       "     {'type': 'string', 'optional': False, 'field': 'table'},\n",
       "     {'type': 'int64', 'optional': True, 'field': 'txId'},\n",
       "     {'type': 'int64', 'optional': True, 'field': 'lsn'},\n",
       "     {'type': 'int64', 'optional': True, 'field': 'xmin'}],\n",
       "    'optional': False,\n",
       "    'name': 'io.debezium.connector.postgresql.Source',\n",
       "    'field': 'source'},\n",
       "   {'type': 'string', 'optional': False, 'field': 'op'},\n",
       "   {'type': 'int64', 'optional': True, 'field': 'ts_ms'},\n",
       "   {'type': 'struct',\n",
       "    'fields': [{'type': 'string', 'optional': False, 'field': 'id'},\n",
       "     {'type': 'int64', 'optional': False, 'field': 'total_order'},\n",
       "     {'type': 'int64', 'optional': False, 'field': 'data_collection_order'}],\n",
       "    'optional': True,\n",
       "    'name': 'event.block',\n",
       "    'version': 1,\n",
       "    'field': 'transaction'}],\n",
       "  'optional': False,\n",
       "  'name': 'postgres.public.customers.Envelope',\n",
       "  'version': 1},\n",
       " 'payload': {'before': None,\n",
       "  'after': {'id': 1, 'name': 'ilya'},\n",
       "  'source': {'version': '2.2.0.Alpha3',\n",
       "   'connector': 'postgresql',\n",
       "   'name': 'postgres',\n",
       "   'ts_ms': 1729013989436,\n",
       "   'snapshot': 'first',\n",
       "   'db': 'postgres',\n",
       "   'sequence': '[null,\"22972456\"]',\n",
       "   'schema': 'public',\n",
       "   'table': 'customers',\n",
       "   'txId': 490,\n",
       "   'lsn': 22972456,\n",
       "   'xmin': None},\n",
       "  'op': 'r',\n",
       "  'ts_ms': 1729013989535,\n",
       "  'transaction': None}}"
      ]
     },
     "execution_count": 23,
     "metadata": {},
     "output_type": "execute_result"
    }
   ],
   "source": [
    "value = read_single_message('postgres.public.customers')\n",
    "value"
   ]
  },
  {
   "cell_type": "markdown",
   "id": "01647354",
   "metadata": {},
   "source": [
    "Что у нас тут получилось:\n",
    "1) Есть схема сообщения\n",
    "2) Так как все строки новые, то `before` содержит `None`\n",
    "3) В то же время, `after` содержит значения в строке\n",
    "\n",
    "Посмотрим, что происходит при insert\n",
    "Выполним на БД следующий скрипт\n",
    "```sql\n",
    "insert into public.customers (id, name)\n",
    "values\n",
    "    (4, 'david')\n",
    ";\n",
    "```"
   ]
  },
  {
   "cell_type": "code",
   "execution_count": 25,
   "id": "2aa206a7",
   "metadata": {},
   "outputs": [
    {
     "name": "stdout",
     "output_type": "stream",
     "text": [
      "Closing consumer due to finish\n",
      "\n",
      "Closing consumer due to finish\n",
      "\n"
     ]
    }
   ],
   "source": [
    "for i in range(2):\n",
    "    read_single_message('postgres.public.customers')"
   ]
  },
  {
   "cell_type": "code",
   "execution_count": 27,
   "id": "d5fbf03f",
   "metadata": {},
   "outputs": [
    {
     "name": "stdout",
     "output_type": "stream",
     "text": [
      "Closing consumer due to finish\n",
      "\n"
     ]
    },
    {
     "data": {
      "text/plain": [
       "{'before': None,\n",
       " 'after': {'id': 4, 'name': 'david'},\n",
       " 'source': {'version': '2.2.0.Alpha3',\n",
       "  'connector': 'postgresql',\n",
       "  'name': 'postgres',\n",
       "  'ts_ms': 1729014334072,\n",
       "  'snapshot': 'false',\n",
       "  'db': 'postgres',\n",
       "  'sequence': '[null,\"22972784\"]',\n",
       "  'schema': 'public',\n",
       "  'table': 'customers',\n",
       "  'txId': 491,\n",
       "  'lsn': 22972784,\n",
       "  'xmin': None},\n",
       " 'op': 'c',\n",
       " 'ts_ms': 1729014334218,\n",
       " 'transaction': None}"
      ]
     },
     "execution_count": 27,
     "metadata": {},
     "output_type": "execute_result"
    }
   ],
   "source": [
    "value = read_single_message('postgres.public.customers')\n",
    "value['payload']"
   ]
  },
  {
   "cell_type": "markdown",
   "id": "9b818c9a",
   "metadata": {},
   "source": [
    "Получили все то же самое<br>\n",
    "Теперь посмотрим на update\n",
    "```sql\n",
    "update public.customers\n",
    "set name = 'diana'\n",
    "where id = 4;\n",
    "```"
   ]
  },
  {
   "cell_type": "code",
   "execution_count": 29,
   "id": "b6813c99",
   "metadata": {},
   "outputs": [
    {
     "name": "stdout",
     "output_type": "stream",
     "text": [
      "Closing consumer due to finish\n",
      "\n"
     ]
    },
    {
     "data": {
      "text/plain": [
       "{'before': {'id': 4, 'name': 'david'},\n",
       " 'after': {'id': 4, 'name': 'diana'},\n",
       " 'source': {'version': '2.2.0.Alpha3',\n",
       "  'connector': 'postgresql',\n",
       "  'name': 'postgres',\n",
       "  'ts_ms': 1729014380110,\n",
       "  'snapshot': 'false',\n",
       "  'db': 'postgres',\n",
       "  'sequence': '[\"22973104\",\"22973160\"]',\n",
       "  'schema': 'public',\n",
       "  'table': 'customers',\n",
       "  'txId': 492,\n",
       "  'lsn': 22973160,\n",
       "  'xmin': None},\n",
       " 'op': 'u',\n",
       " 'ts_ms': 1729014380246,\n",
       " 'transaction': None}"
      ]
     },
     "execution_count": 29,
     "metadata": {},
     "output_type": "execute_result"
    }
   ],
   "source": [
    "value = read_single_message('postgres.public.customers')\n",
    "value['payload']"
   ]
  },
  {
   "cell_type": "markdown",
   "id": "f28271ad",
   "metadata": {},
   "source": [
    "Что мы имеем:\n",
    "1) `before` содержит старые значения в строке\n",
    "2) `after` содержит новые значения в строке\n",
    "\n",
    "Посмотрим, что произойдет при delete\n",
    "```sql\n",
    "delete\n",
    "from public.customers\n",
    "where id = 4;\n",
    "```"
   ]
  },
  {
   "cell_type": "code",
   "execution_count": 31,
   "id": "cb347e5e",
   "metadata": {},
   "outputs": [
    {
     "name": "stdout",
     "output_type": "stream",
     "text": [
      "Closing consumer due to finish\n",
      "\n"
     ]
    },
    {
     "data": {
      "text/plain": [
       "{'before': {'id': 4, 'name': 'diana'},\n",
       " 'after': None,\n",
       " 'source': {'version': '2.2.0.Alpha3',\n",
       "  'connector': 'postgresql',\n",
       "  'name': 'postgres',\n",
       "  'ts_ms': 1729014420617,\n",
       "  'snapshot': 'false',\n",
       "  'db': 'postgres',\n",
       "  'sequence': '[\"22973304\",\"22973360\"]',\n",
       "  'schema': 'public',\n",
       "  'table': 'customers',\n",
       "  'txId': 493,\n",
       "  'lsn': 22973360,\n",
       "  'xmin': None},\n",
       " 'op': 'd',\n",
       " 'ts_ms': 1729014421006,\n",
       " 'transaction': None}"
      ]
     },
     "execution_count": 31,
     "metadata": {},
     "output_type": "execute_result"
    }
   ],
   "source": [
    "value = read_single_message('postgres.public.customers')\n",
    "value['payload']"
   ]
  },
  {
   "cell_type": "markdown",
   "id": "a16b3fa6",
   "metadata": {},
   "source": [
    "Что мы имеем:\n",
    "1) `before` содержит старые значения в строке\n",
    "2) `after` содержит `None`\n",
    "\n",
    "<b>ВАЖНО:</b> Debezium [не умеет](https://github.com/MaterializeInc/materialize/issues/6596#issuecomment-963479859) в обработку truncate\n",
    "\n",
    "### Шаг 4\n",
    "\n",
    "Посмотрим, что произойдет при создании новой таблицы\n",
    "```sql\n",
    "create table public.stores (\n",
    "    id int,\n",
    "    city text\n",
    ");\n",
    "ALTER TABLE public.stores REPLICA IDENTITY FULL;\n",
    "```"
   ]
  },
  {
   "cell_type": "code",
   "execution_count": 45,
   "id": "5fb5b844",
   "metadata": {},
   "outputs": [],
   "source": [
    "!rm topics.json"
   ]
  },
  {
   "cell_type": "code",
   "execution_count": 47,
   "id": "678b13a1",
   "metadata": {},
   "outputs": [
    {
     "name": "stdout",
     "output_type": "stream",
     "text": [
      "  % Total    % Received % Xferd  Average Speed   Time    Time     Time  Current\n",
      "                                 Dload  Upload   Total   Spent    Left  Speed\n",
      "100  5452    0  5452    0     0   123k      0 --:--:-- --:--:-- --:--:--  123k\n"
     ]
    }
   ],
   "source": [
    "!curl http://localhost:8082/v3/clusters/x7CHkIiVTgiq-_6Ob3dE_A/topics -o topics.json"
   ]
  },
  {
   "cell_type": "code",
   "execution_count": 49,
   "id": "b96574f1",
   "metadata": {},
   "outputs": [
    {
     "name": "stdout",
     "output_type": "stream",
     "text": [
      "__debezium-heartbeat.postgres\n",
      "_schemas\n",
      "connect_configs\n",
      "connect_offsets\n",
      "connect_statuses\n",
      "postgres.public.customers\n",
      "service_backend_feed\n"
     ]
    }
   ],
   "source": [
    "with open('topics.json', 'r') as f:\n",
    "    topics = json.load(f)\n",
    "\n",
    "for i in topics['data']:\n",
    "    print(i['topic_name'])"
   ]
  },
  {
   "cell_type": "markdown",
   "id": "a21be990",
   "metadata": {},
   "source": [
    "Видим, что топика нет<br>\n",
    "Все потому, что таблица пустая<br>\n",
    "Добавим в нее строк\n",
    "```sql\n",
    "insert into public.stores (id, city)\n",
    "values\n",
    "    (1, 'Moscow'),\n",
    "    (2, 'London'),\n",
    "    (3, 'Milano')\n",
    ";\n",
    "```"
   ]
  },
  {
   "cell_type": "code",
   "execution_count": 51,
   "id": "0d6209a7",
   "metadata": {},
   "outputs": [
    {
     "name": "stdout",
     "output_type": "stream",
     "text": [
      "  % Total    % Received % Xferd  Average Speed   Time    Time     Time  Current\n",
      "                                 Dload  Upload   Total   Spent    Left  Speed\n",
      "100  6234    0  6234    0     0  58302      0 --:--:-- --:--:-- --:--:-- 58811\n",
      "__debezium-heartbeat.postgres\n",
      "_schemas\n",
      "connect_configs\n",
      "connect_offsets\n",
      "connect_statuses\n",
      "postgres.public.customers\n",
      "postgres.public.stores\n",
      "service_backend_feed\n"
     ]
    }
   ],
   "source": [
    "!rm topics.json\n",
    "!curl http://localhost:8082/v3/clusters/x7CHkIiVTgiq-_6Ob3dE_A/topics -o topics.json\n",
    "        \n",
    "with open('topics.json', 'r') as f:\n",
    "    topics = json.load(f)\n",
    "\n",
    "for i in topics['data']:\n",
    "    print(i['topic_name'])"
   ]
  },
  {
   "cell_type": "markdown",
   "id": "190a5ab7",
   "metadata": {},
   "source": [
    "Теперь топик есть, и его можно почитать"
   ]
  },
  {
   "cell_type": "code",
   "execution_count": 53,
   "id": "44e31a06",
   "metadata": {},
   "outputs": [
    {
     "name": "stdout",
     "output_type": "stream",
     "text": [
      "Closing consumer due to finish\n",
      "\n",
      "{'before': None, 'after': {'id': 1, 'city': 'Moscow'}, 'source': {'version': '2.2.0.Alpha3', 'connector': 'postgresql', 'name': 'postgres', 'ts_ms': 1729014541776, 'snapshot': 'false', 'db': 'postgres', 'sequence': '[\"23088648\",\"23088704\"]', 'schema': 'public', 'table': 'stores', 'txId': 496, 'lsn': 23088704, 'xmin': None}, 'op': 'c', 'ts_ms': 1729014541922, 'transaction': None}\n",
      "---\n",
      "Closing consumer due to finish\n",
      "\n",
      "{'before': None, 'after': {'id': 2, 'city': 'London'}, 'source': {'version': '2.2.0.Alpha3', 'connector': 'postgresql', 'name': 'postgres', 'ts_ms': 1729014541776, 'snapshot': 'false', 'db': 'postgres', 'sequence': '[\"23088648\",\"23088776\"]', 'schema': 'public', 'table': 'stores', 'txId': 496, 'lsn': 23088776, 'xmin': None}, 'op': 'c', 'ts_ms': 1729014541923, 'transaction': None}\n",
      "---\n",
      "Closing consumer due to finish\n",
      "\n",
      "{'before': None, 'after': {'id': 3, 'city': 'Milano'}, 'source': {'version': '2.2.0.Alpha3', 'connector': 'postgresql', 'name': 'postgres', 'ts_ms': 1729014541776, 'snapshot': 'false', 'db': 'postgres', 'sequence': '[\"23088648\",\"23088848\"]', 'schema': 'public', 'table': 'stores', 'txId': 496, 'lsn': 23088848, 'xmin': None}, 'op': 'c', 'ts_ms': 1729014541923, 'transaction': None}\n",
      "---\n"
     ]
    }
   ],
   "source": [
    "for i in range(3):\n",
    "    value = read_single_message('postgres.public.stores')\n",
    "    print(value['payload'], end='\\n---\\n')"
   ]
  },
  {
   "cell_type": "code",
   "execution_count": null,
   "id": "12bef55f",
   "metadata": {},
   "outputs": [],
   "source": []
  }
 ],
 "metadata": {
  "kernelspec": {
   "display_name": "Python 3",
   "language": "python",
   "name": "python3"
  },
  "language_info": {
   "codemirror_mode": {
    "name": "ipython",
    "version": 3
   },
   "file_extension": ".py",
   "mimetype": "text/x-python",
   "name": "python",
   "nbconvert_exporter": "python",
   "pygments_lexer": "ipython3",
   "version": "3.12.2"
  }
 },
 "nbformat": 4,
 "nbformat_minor": 5
}
