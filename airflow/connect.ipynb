{
 "cells": [
  {
   "cell_type": "code",
   "execution_count": 11,
   "metadata": {},
   "outputs": [
    {
     "name": "stdout",
     "output_type": "stream",
     "text": [
      "{\n",
      "  \"conn_type\": \"Vertica\",\n",
      "  \"connection_id\": \"1\",\n",
      "  \"description\": \"string\",\n",
      "  \"extra\": \"\",\n",
      "  \"host\": \"host.docker.internal\",\n",
      "  \"login\": \"dbadmin\",\n",
      "  \"port\": 5433,\n",
      "  \"schema\": \"presentation\"\n",
      "}\n"
     ]
    },
    {
     "name": "stderr",
     "output_type": "stream",
     "text": [
      "  % Total    % Received % Xferd  Average Speed   Time    Time     Time  Current\n",
      "                                 Dload  Upload   Total   Spent    Left  Speed\n",
      "\n",
      "  0     0    0     0    0     0      0      0 --:--:-- --:--:-- --:--:--     0\n",
      "100   202    0     0  100   202      0    995 --:--:-- --:--:-- --:--:--   995\n",
      "100   202    0     0  100   202      0    166  0:00:01  0:00:01 --:--:--   165\n",
      "100   397  100   195  100   202     98    101  0:00:02  0:00:01  0:00:01   200\n"
     ]
    }
   ],
   "source": [
    "! curl -X POST --location \"http://localhost:8080/api/v1/connections\" -H \"Content-Type: application/json\" -H \"Accept: application/json\" --user \"airflow:airflow\" -d @\"vertica.json\""
   ]
  },
  {
   "cell_type": "code",
   "execution_count": 9,
   "metadata": {},
   "outputs": [
    {
     "name": "stderr",
     "output_type": "stream",
     "text": [
      "curl: (3) URL rejected: Port number was not a decimal number between 0 and 65535\n",
      "  % Total    % Received % Xferd  Average Speed   Time    Time     Time  Current\n",
      "                                 Dload  Upload   Total   Spent    Left  Speed\n",
      "\n",
      "  0     0    0     0    0     0      0      0 --:--:-- --:--:-- --:--:--     0\n",
      "  0     0    0     0    0     0      0      0 --:--:-- --:--:-- --:--:--     0\n",
      "  0     0    0     0    0     0      0      0 --:--:--  0:00:01 --:--:--     0curl: (6) Could not resolve host: application\n"
     ]
    }
   ],
   "source": [
    "!curl -X GET --location 'http://localhost:8080/api/v1/dags' -H 'Content-Type: application/json' --user \"airflow:airflow\""
   ]
  }
 ],
 "metadata": {
  "kernelspec": {
   "display_name": "Python 3",
   "language": "python",
   "name": "python3"
  },
  "language_info": {
   "codemirror_mode": {
    "name": "ipython",
    "version": 3
   },
   "file_extension": ".py",
   "mimetype": "text/x-python",
   "name": "python",
   "nbconvert_exporter": "python",
   "pygments_lexer": "ipython3",
   "version": "3.12.2"
  }
 },
 "nbformat": 4,
 "nbformat_minor": 2
}
